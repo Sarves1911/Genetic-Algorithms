{
  "nbformat": 4,
  "nbformat_minor": 0,
  "metadata": {
    "colab": {
      "provenance": []
    },
    "kernelspec": {
      "name": "python3",
      "display_name": "Python 3"
    },
    "language_info": {
      "name": "python"
    }
  },
  "cells": [
    {
      "cell_type": "markdown",
      "source": [
        "# Optimizing a 2-D inverted gaussian finction with GA's"
      ],
      "metadata": {
        "id": "6gon4qycjCvj"
      }
    },
    {
      "cell_type": "code",
      "source": [
        "from numpy.random import randint\n",
        "from numpy.random import rand\n",
        "import math"
      ],
      "metadata": {
        "id": "CflFNaY6i3mw"
      },
      "execution_count": 1,
      "outputs": []
    },
    {
      "cell_type": "code",
      "source": [
        "# The objective function is a two-dimensional inverted Gaussian function, centred at (7, 9)\n",
        "#The minimum value of this function is at 7,9\n",
        "def objective(x):\n",
        "  y = math.exp(((x[0]-7)**2) + (x[1]-9)**2)\n",
        "  return y"
      ],
      "metadata": {
        "id": "5aW5-0OKi4c_"
      },
      "execution_count": 2,
      "outputs": []
    },
    {
      "cell_type": "code",
      "source": [
        "#we guesss the initial numbers in terms of bit-strings\n",
        "#this function helps us decode the binary bit strings to real numbers\n",
        "def decode(bounds, n_bits, bitstring):\n",
        "\t\"\"\"\n",
        "\tThis function decodes binary bitstrings to numbers for each input and scales the value to fall within defined bounds.\n",
        "\n",
        "\tParameters:\n",
        "\t\tbounds (list): A list of tuples representing the lower and upper bounds for each value to be decoded.\n",
        "\t\tn_bits (int): The number of bits used to represent each value.\n",
        "\t\tbitstring (list): A binary bitstring to be decoded.\n",
        "\n",
        "\tReturns:\n",
        "\t\tdecoded (list): A list of decoded values.\n",
        "\t\"\"\"\n",
        "\tdecoded = []  # Create an empty list to hold the decoded values\n",
        "\tlargest = 2**n_bits  # The largest value that can be represented with the given number of bits\n",
        "\tfor i in range(len(bounds)):\n",
        "\t\t# Extract the substring for the current value\n",
        "\t\tstart, end = i * n_bits, (i * n_bits) + n_bits  # Define the start and end indices of the substring\n",
        "\t\tsubstring = bitstring[start:end]  # Extract the substring\n",
        "\t\t# Convert the substring to a string of characters\n",
        "\t\tchars = ''.join([str(s) for s in substring])  # Join the values in the substring together into a string of characters\n",
        "\t\t# Convert the string of characters to an integer\n",
        "\t\tinteger = int(chars, 2)  # Convert the binary number string into an integer\n",
        "\t\t# Scale the integer to the desired range\n",
        "\t\tvalue = bounds[i][0] + (integer/largest) * (bounds[i][1] - bounds[i][0])  # Scale the integer to a value within the defined bounds\n",
        "\t\t# Store the decoded value\n",
        "\t\tdecoded.append(value)\n",
        "\treturn decoded"
      ],
      "metadata": {
        "id": "Z8P_zT2xjTfD"
      },
      "execution_count": 3,
      "outputs": []
    },
    {
      "cell_type": "code",
      "source": [
        "#selection function which helps us select the elites among the population\n",
        "def selection(pop, scores, k=3):\n",
        "    \"\"\"\n",
        "    Select the best individuals for the next generation based on their fitness (scores).\n",
        "    This function randomly selects k individuals from the population and performs a tournament\n",
        "    among them to choose the one with the best score.\n",
        "\n",
        "    Parameters:\n",
        "    pop (list): The population of individuals.\n",
        "    scores (list): The fitness scores for each individual in the population.\n",
        "    k (int, optional): The number of individuals to select from the population for the tournament.\n",
        "                        Defaults to 3.\n",
        "\n",
        "    Returns:\n",
        "    individual: The best individual from the tournament.\n",
        "    \"\"\"\n",
        "    # Randomly select one index from the population as the initial selection\n",
        "    selection_ix = randint(len(pop))\n",
        "    # Perform a tournament among k randomly selected individuals\n",
        "    for ix in randint(0, len(pop), k-1):\n",
        "        # Check if the current individual has a better score than the selected one\n",
        "        if scores[ix] < scores[selection_ix]:\n",
        "            # Update the selected individual if a better one is found\n",
        "            selection_ix = ix\n",
        "    # Return the best individual from the tournament\n",
        "    return pop[selection_ix]"
      ],
      "metadata": {
        "id": "NLbBJzQ1jvmZ"
      },
      "execution_count": 4,
      "outputs": []
    },
    {
      "cell_type": "code",
      "source": [
        "#cross-over function - to create offsprings of parents\n",
        "def crossover(p1, p2, r_cross):\n",
        "    \"\"\"\n",
        "    Create two children from two parents using the crossover operation.\n",
        "    The children are created by copying the parents, and recombination occurs\n",
        "    if a random value is less than the crossover rate.\n",
        "\n",
        "    Parameters:\n",
        "    p1 (list): The first parent.\n",
        "    p2 (list): The second parent.\n",
        "    r_cross (float): The crossover rate.\n",
        "\n",
        "    Returns:\n",
        "    list: A list containing the two children.\n",
        "    \"\"\"\n",
        "    # Children are copies of the parents by default\n",
        "    c1, c2 = p1.copy(), p2.copy()\n",
        "    # Check if recombination should occur\n",
        "    if rand() < r_cross:\n",
        "        # Select a crossover point (not at the end of the string)\n",
        "        pt = randint(1, len(p1)-2)\n",
        "        # Perform crossover in the children\n",
        "        c1 = p1[:pt] + p2[pt:]\n",
        "        c2 = p2[:pt] + p1[pt:]\n",
        "    # Return the two children\n",
        "    return [c1, c2]\n",
        ""
      ],
      "metadata": {
        "id": "pZ-bykZij66R"
      },
      "execution_count": 5,
      "outputs": []
    },
    {
      "cell_type": "code",
      "source": [
        "#The crossover process can generate offsprings that are very similar to the parents. This might cause a new generation with low diversity.\n",
        "# The mutation process solves this problem by changing the value of some features in the offspring at random.\n",
        "import random\n",
        "\n",
        "def mutation(bitstring, r_mut):\n",
        "    \"\"\"\n",
        "    The mutation process changes the value of some features in the offspring at random to maintain the diversity in the population.\n",
        "    A standard value for the mutation rate is 1/m where m is the number of features.\n",
        "\n",
        "    Parameters:\n",
        "    bitstring (list): A list of binary values representing the offspring\n",
        "    r_mut (float): The mutation rate, typically 1/m where m is the number of features\n",
        "\n",
        "    Returns:\n",
        "    list: The modified bitstring after mutation\n",
        "\n",
        "    \"\"\"\n",
        "    rand = random.random\n",
        "    for i in range(len(bitstring)):\n",
        "        # Check for a mutation\n",
        "        if rand() < r_mut:\n",
        "            # Flip the bit\n",
        "            bitstring[i] = 1 - bitstring[i]\n",
        "    return bitstring\n",
        ""
      ],
      "metadata": {
        "id": "I9zWYQHskEkE"
      },
      "execution_count": 6,
      "outputs": []
    },
    {
      "cell_type": "code",
      "source": [
        "# genetic algorithm implementation\n",
        "def genetic_algorithm(objective, bounds, n_bits, n_iter, n_pop, r_cross, r_mut):\n",
        "    \"\"\"\n",
        "    The genetic algorithm that finds the optimal solution by performing the fitness assignment, selection, recombination, and mutation process repeatedly.\n",
        "    Each iteration, the solution is more adapted to the environment.\n",
        "\n",
        "    Parameters\n",
        "    ----------\n",
        "    objective: function\n",
        "        The objective function that needs to be optimized.\n",
        "    bounds: list of tuples\n",
        "        The bounds of the solution.\n",
        "    n_bits: int\n",
        "        The number of bits used to encode the solution.\n",
        "    n_iter: int\n",
        "        The number of iterations to perform.\n",
        "    n_pop: int\n",
        "        The size of the population.\n",
        "    r_cross: float\n",
        "        The crossover rate.\n",
        "    r_mut: float\n",
        "        The mutation rate.\n",
        "\n",
        "    Returns\n",
        "    -------\n",
        "    list\n",
        "        The best solution and its evaluation.\n",
        "    \"\"\"\n",
        "    # initialize the population with random bitstrings\n",
        "    pop = [randint(0, 2, n_bits * len(bounds)).tolist() for _ in range(n_pop)]\n",
        "\n",
        "    # track the best solution found so far\n",
        "    best, best_eval = 0, objective(decode(bounds, n_bits, pop[0]))\n",
        "\n",
        "    # iterate over generations\n",
        "    for gen in range(n_iter):\n",
        "        # decode the population\n",
        "        decoded = [decode(bounds, n_bits, p) for p in pop]\n",
        "        # evaluate all candidates in the population\n",
        "        scores = [objective(d) for d in decoded]\n",
        "        # check for a new best solution\n",
        "        for i in range(n_pop):\n",
        "            if scores[i] < best_eval:\n",
        "                best, best_eval = pop[i], scores[i]\n",
        "                print(\">%d, new best f(%s) = %f\" % (gen,  decoded[i], scores[i]))\n",
        "\n",
        "        # select parents\n",
        "        selected = [selection(pop, scores) for _ in range(n_pop)]\n",
        "\n",
        "        # create the next generation - children\n",
        "        children = list()\n",
        "        for i in range(0, n_pop, 2):\n",
        "            # get selected parents in pairs\n",
        "            p1, p2 = selected[i], selected[i + 1]\n",
        "            # crossover and mutation\n",
        "            for c in crossover(p1, p2, r_cross):\n",
        "                # mutation\n",
        "                mutation(c, r_mut)\n",
        "                # store for next generation\n",
        "                children.append(c)\n",
        "        # replace the population\n",
        "        pop = children\n",
        "    return [best, best_eval]\n",
        "\n",
        "\n"
      ],
      "metadata": {
        "id": "DRZqYbjokI19"
      },
      "execution_count": 7,
      "outputs": []
    },
    {
      "cell_type": "code",
      "source": [
        "# define range for input\n",
        "bounds = [[-10.0, 10.0], [-10.0, 10.0]]\n",
        "# define the total iterations\n",
        "n_iter = 100\n",
        "# bits per variable\n",
        "n_bits = 16\n",
        "# define the population size\n",
        "n_pop = 100\n",
        "# crossover rate\n",
        "r_cross = 0.9\n",
        "# mutation rate\n",
        "r_mut = 1.0 / (float(n_bits) * len(bounds))\n",
        "# perform the genetic algorithm search\n",
        "best, score = genetic_algorithm(objective, bounds, n_bits, n_iter, n_pop, r_cross, r_mut)\n",
        "print('###########################################################')\n",
        "decoded = decode(bounds, n_bits, best)\n",
        "print('The result is (%s) with a score of %f' % (decoded, score))"
      ],
      "metadata": {
        "colab": {
          "base_uri": "https://localhost:8080/"
        },
        "id": "zHzrOgGtkSo9",
        "outputId": "45f42e3c-711f-4e00-babc-fcd1edeb7378"
      },
      "execution_count": 8,
      "outputs": [
        {
          "output_type": "stream",
          "name": "stdout",
          "text": [
            ">0, new best f([5.19866943359375, 3.02825927734375]) = 78862251070346912.000000\n",
            ">0, new best f([6.8499755859375, 4.62646484375]) = 207432612.897495\n",
            ">0, new best f([4.4757080078125, 9.1595458984375]) = 600.345279\n",
            ">0, new best f([9.11773681640625, 9.9462890625]) = 217.081360\n",
            ">0, new best f([5.867919921875, 7.607421875]) = 25.050133\n",
            ">1, new best f([5.885009765625, 8.02825927734375]) = 8.912754\n",
            ">1, new best f([5.867919921875, 8.1011962890625]) = 8.080497\n",
            ">1, new best f([6.97845458984375, 8.92730712890625]) = 1.005765\n",
            ">2, new best f([6.9598388671875, 9.0570068359375]) = 1.004875\n",
            ">3, new best f([6.9598388671875, 9.0386962890625]) = 1.003115\n",
            ">4, new best f([6.97845458984375, 8.97308349609375]) = 1.001189\n",
            ">7, new best f([6.97845458984375, 9.02313232421875]) = 1.001000\n",
            ">7, new best f([6.9903564453125, 9.02923583984375]) = 1.000948\n",
            ">9, new best f([6.99920654296875, 9.005126953125]) = 1.000027\n",
            ">10, new best f([7.00164794921875, 9.00146484375]) = 1.000005\n",
            ">15, new best f([7.00164794921875, 8.99932861328125]) = 1.000003\n",
            ">23, new best f([7.00103759765625, 8.99932861328125]) = 1.000002\n",
            ">26, new best f([7.00103759765625, 9.00054931640625]) = 1.000001\n",
            ">27, new best f([6.99920654296875, 8.99932861328125]) = 1.000001\n",
            ">28, new best f([6.99920654296875, 9.00054931640625]) = 1.000001\n",
            ">30, new best f([7.0001220703125, 8.99932861328125]) = 1.000000\n",
            ">36, new best f([7.0001220703125, 8.99993896484375]) = 1.000000\n",
            "###########################################################\n",
            "The result is ([7.0001220703125, 8.99993896484375]) with a score of 1.000000\n"
          ]
        }
      ]
    },
    {
      "cell_type": "code",
      "source": [],
      "metadata": {
        "id": "uoC9VeXrkYj1"
      },
      "execution_count": null,
      "outputs": []
    }
  ]
}